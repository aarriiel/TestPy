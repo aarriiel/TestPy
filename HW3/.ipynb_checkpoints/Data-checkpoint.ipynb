{
 "cells": [
  {
   "cell_type": "code",
   "execution_count": 231,
   "metadata": {},
   "outputs": [],
   "source": [
    "import selenium.webdriver.support.ui as ui\n",
    "from time import sleep\n",
    "from selenium import webdriver\n",
    "from selenium.webdriver.common.keys import Keys\n",
    "from selenium.webdriver.support import expected_conditions as EC\n",
    "from selenium.webdriver.common.by import By\n",
    "from selenium.webdriver.support.wait import WebDriverWait\n",
    "from selenium.common.exceptions import TimeoutException\n",
    "import csv,codecs\n",
    "import time"
   ]
  },
  {
   "cell_type": "code",
   "execution_count": 218,
   "metadata": {},
   "outputs": [],
   "source": [
    "class pttPost:\n",
    "    def __init__(self,post_class, title, comments):       \n",
    "        self.post_class = post_class\n",
    "        self.title = title\n",
    "        #self.content = content\n",
    "        self.comments = comments\n",
    "    \n",
    "    def __str__(self):\n",
    "        return self.comments"
   ]
  },
  {
   "cell_type": "code",
   "execution_count": 263,
   "metadata": {},
   "outputs": [],
   "source": [
    "def scrape_post(wait,post_class, url, retry=3, timeout=10):\n",
    "    \"\"\" Scrape the job info from the specified Url. A broswer driver MUST be initialized beforehand.\n",
    "    :param wait: contains wait timeout.\n",
    "    :param url: the url of a reddit post.\n",
    "    :param retry: times to retry.\n",
    "    :return: an instance of RedditPost.\n",
    "    \"\"\"\n",
    "    for i in range(0, retry):\n",
    "        driver.get(url)\n",
    "    \n",
    "    # Wait until all required dynamics elements are generated.\n",
    "        try:\n",
    "            wait.until(lambda driver:EC.presence_of_element_located((By.CLASS_NAME, 'article-meta-value')))\n",
    "            wait.until(lambda driver:EC.presence_of_element_located((By.CLASS_NAME, 'push')))\n",
    "\n",
    "            # Extract post title and all comments.\n",
    "            ex = driver.find_elements_by_class_name('article-meta-value')[1:]\n",
    "            title=ex[1].text\n",
    "            #title = driver.find_element_by_class_name('article-meta-value')[2].text\n",
    "            comments = driver.find_elements_by_class_name('push')\n",
    "            #print(comments)\n",
    "            #for comment in comments\n",
    "            \n",
    "            return pttPost(post_class,title, ' '.join([comment.text.replace('\\n', ' ') for comment in comments]))\n",
    "        \n",
    "        except :\n",
    "            continue\n",
    "    \n",
    "    # If all retries have failed, return None.\n",
    "    return None"
   ]
  },
  {
   "cell_type": "code",
   "execution_count": 224,
   "metadata": {},
   "outputs": [
    {
     "name": "stdout",
     "output_type": "stream",
     "text": [
      "https://www.ptt.cc/bbs/Hearthstone/M.1548582232.A.3F1.html\n",
      "https://www.ptt.cc/bbs/Hearthstone/M.1548581644.A.BC8.html\n",
      "https://www.ptt.cc/bbs/Hearthstone/M.1548578937.A.C17.html\n",
      "https://www.ptt.cc/bbs/Hearthstone/M.1548553870.A.878.html\n",
      "https://www.ptt.cc/bbs/Hearthstone/M.1548501317.A.CC1.html\n",
      "https://www.ptt.cc/bbs/Hearthstone/M.1548466819.A.0DD.html\n",
      "https://www.ptt.cc/bbs/Hearthstone/M.1548309617.A.B9A.html\n",
      "https://www.ptt.cc/bbs/Hearthstone/M.1548289652.A.9D2.html\n",
      "https://www.ptt.cc/bbs/Hearthstone/M.1548162113.A.129.html\n",
      "https://www.ptt.cc/bbs/Hearthstone/M.1548161336.A.8CD.html\n",
      "https://www.ptt.cc/bbs/Hearthstone/M.1548147171.A.0F0.html\n",
      "https://www.ptt.cc/bbs/Hearthstone/M.1548141457.A.A2A.html\n",
      "https://www.ptt.cc/bbs/Hearthstone/M.1548128943.A.BCE.html\n",
      "https://www.ptt.cc/bbs/Hearthstone/M.1548124217.A.AD5.html\n",
      "https://www.ptt.cc/bbs/Hearthstone/M.1548110333.A.C5C.html\n",
      "https://www.ptt.cc/bbs/Hearthstone/M.1548091264.A.9CC.html\n",
      "https://www.ptt.cc/bbs/Hearthstone/M.1548067995.A.148.html\n",
      "https://www.ptt.cc/bbs/Hearthstone/M.1548043547.A.BE1.html\n",
      "https://www.ptt.cc/bbs/Hearthstone/M.1548039515.A.75C.html\n",
      "https://www.ptt.cc/bbs/Hearthstone/M.1547999669.A.CE8.html\n"
     ]
    }
   ],
   "source": [
    "driver = webdriver.Chrome('../PJ/chromedriver.exe')\n",
    "driver.get('https://www.ptt.cc/bbs/Hearthstone/index.html');\n",
    "driver.find_element_by_name('q').send_keys('季後賽')\n",
    "driver.find_element_by_name('q').send_keys(Keys.RETURN)\n",
    "driver.implicitly_wait(10) \n",
    "# print(driver.page_source)  # 顯示全部html\n",
    "wait = ui.WebDriverWait(driver,20, 0.5)\n",
    "arr = []\n",
    "\n",
    "while True:\n",
    "    try:\n",
    "        sleep(2)\n",
    "        wait.until(lambda driver:EC.presence_of_element_located((By.CLASS_NAME,'title')))\n",
    "        title = driver.find_elements_by_class_name('title')\n",
    "        for a in title:\n",
    "            ans = a.find_elements_by_tag_name('a')\n",
    "            arr.append(ans[0].get_attribute('href'))\n",
    "            print(ans[0].get_attribute('href'))\n",
    "        break\n",
    "    except:\n",
    "        break"
   ]
  },
  {
   "cell_type": "code",
   "execution_count": 225,
   "metadata": {},
   "outputs": [
    {
     "name": "stdout",
     "output_type": "stream",
     "text": [
      "https://www.ptt.cc/bbs/Hearthstone/M.1530177978.A.3AC.html\n",
      "https://www.ptt.cc/bbs/Hearthstone/M.1525948163.A.33B.html\n",
      "https://www.ptt.cc/bbs/Hearthstone/M.1525833847.A.BE0.html\n",
      "https://www.ptt.cc/bbs/Hearthstone/M.1525803910.A.849.html\n",
      "https://www.ptt.cc/bbs/Hearthstone/M.1510393847.A.A8B.html\n",
      "https://www.ptt.cc/bbs/Hearthstone/M.1507982059.A.82F.html\n",
      "https://www.ptt.cc/bbs/Hearthstone/M.1507733790.A.F15.html\n",
      "https://www.ptt.cc/bbs/Hearthstone/M.1507173878.A.606.html\n",
      "https://www.ptt.cc/bbs/Hearthstone/M.1505565415.A.87C.html\n",
      "https://www.ptt.cc/bbs/Hearthstone/M.1505242725.A.B09.html\n",
      "https://www.ptt.cc/bbs/Hearthstone/M.1504842032.A.B6E.html\n",
      "https://www.ptt.cc/bbs/Hearthstone/M.1504693477.A.B5D.html\n",
      "https://www.ptt.cc/bbs/Hearthstone/M.1504605515.A.142.html\n",
      "https://www.ptt.cc/bbs/Hearthstone/M.1504520001.A.95D.html\n",
      "https://www.ptt.cc/bbs/Hearthstone/M.1504516332.A.D89.html\n",
      "https://www.ptt.cc/bbs/Hearthstone/M.1504261235.A.172.html\n",
      "https://www.ptt.cc/bbs/Hearthstone/M.1504174420.A.1F0.html\n",
      "https://www.ptt.cc/bbs/Hearthstone/M.1504088310.A.E6E.html\n",
      "https://www.ptt.cc/bbs/Hearthstone/M.1504002601.A.AF8.html\n",
      "https://www.ptt.cc/bbs/Hearthstone/M.1503914956.A.B6B.html\n"
     ]
    }
   ],
   "source": [
    "driver = webdriver.Chrome('../PJ/chromedriver.exe')\n",
    "driver.get('https://www.ptt.cc/bbs/Hearthstone/index.html');\n",
    "driver.find_element_by_name('q').send_keys('夏季賽')\n",
    "driver.find_element_by_name('q').send_keys(Keys.RETURN)\n",
    "driver.implicitly_wait(10) \n",
    "# print(driver.page_source)  # 顯示全部html\n",
    "wait = ui.WebDriverWait(driver,20, 0.5)\n",
    "brr = []\n",
    "\n",
    "while True:\n",
    "    try:\n",
    "        sleep(2)\n",
    "        wait.until(lambda driver:EC.presence_of_element_located((By.CLASS_NAME,'title')))\n",
    "        title = driver.find_elements_by_class_name('title')\n",
    "        for a in title:\n",
    "            ans = a.find_elements_by_tag_name('a')\n",
    "            brr.append(ans[0].get_attribute('href'))\n",
    "            print(ans[0].get_attribute('href'))\n",
    "        break\n",
    "    except:\n",
    "        break"
   ]
  },
  {
   "cell_type": "code",
   "execution_count": 249,
   "metadata": {},
   "outputs": [],
   "source": [
    "driver = webdriver.Chrome('../PJ/chromedriver.exe')\n",
    "mouse=[]\n",
    "mice=[]\n",
    "for url in arr:\n",
    "    mouse.append(scrape_post(wait,'季後賽', url))\n",
    "for url in brr:\n",
    "    mice.append(scrape_post(wait,'夏季賽', url))"
   ]
  },
  {
   "cell_type": "code",
   "execution_count": 254,
   "metadata": {},
   "outputs": [
    {
     "data": {
      "text/plain": [
       "'推 TESA        : 溫馨賣奶台  06/28 17:27 推 Sechslee    : 推  06/28 17:41 推 glen        : 比賽是晚上11:30開始嗎~?  06/28 17:51 推 NGNL1103    : 4  06/28 17:52 推 A9226       : 推標題  06/28 17:55 推 qwer8355    : 寶貝加油  06/28 18:05 推 NTU5566NTHU : 今晚有誰要播報啊  06/28 18:27 推 firtaily    : 這次還是在g9台播嗎？  06/28 18:32 推 anna9513647 : 暴雪台播喔 11:30開始 大概播兩輪  06/28 18:44 → anna9513647 : 智9是跟廚爹一起播～  06/28 18:44 推 NTU5566NTHU : 阿傑有播報嗎  06/28 18:46 推 whynunuwhy  : 請問阿傑幾點打  06/28 19:39 推 Jotarun     : 阿傑6/31開打  06/28 19:42 推 zaza1128    : 推，辛苦你們了  06/28 19:48 推 a0114133    : 6/31 LUL  06/28 19:59 推 jack770402  : 九桃郎大大不發篇比賽文嗎？  06/28 22:39 推 Jotarun     : 比賽文當然是版主發啊  06/28 22:43'"
      ]
     },
     "execution_count": 254,
     "metadata": {},
     "output_type": "execute_result"
    }
   ],
   "source": [
    "mice[0].title\n",
    "mice[0].comments"
   ]
  },
  {
   "cell_type": "code",
   "execution_count": 244,
   "metadata": {},
   "outputs": [],
   "source": [
    "with open('ptt_posts.csv', 'w',newline ='',encoding='utf-8') as f:\n",
    "    w = csv.DictWriter(f, fieldnames = ['post_class','title', 'comments'])\n",
    "    w.writeheader()\n",
    "    for post in mouse+mice:\n",
    "        if post is not None:\n",
    "            w.writerow(vars(post))"
   ]
  }
 ],
 "metadata": {
  "kernelspec": {
   "display_name": "Python 3",
   "language": "python",
   "name": "python3"
  },
  "language_info": {
   "codemirror_mode": {
    "name": "ipython",
    "version": 3
   },
   "file_extension": ".py",
   "mimetype": "text/x-python",
   "name": "python",
   "nbconvert_exporter": "python",
   "pygments_lexer": "ipython3",
   "version": "3.7.1"
  }
 },
 "nbformat": 4,
 "nbformat_minor": 2
}
