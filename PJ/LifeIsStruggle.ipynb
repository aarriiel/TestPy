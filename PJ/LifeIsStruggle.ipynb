{
 "cells": [
  {
   "cell_type": "code",
   "execution_count": 111,
   "metadata": {},
   "outputs": [],
   "source": [
    "import selenium.webdriver.support.ui as ui\n",
    "from time import sleep\n",
    "from selenium import webdriver\n",
    "from selenium.webdriver.common.keys import Keys\n",
    "from selenium.webdriver.support import expected_conditions as EC\n",
    "from selenium.webdriver.common.by import By\n",
    "import csv"
   ]
  },
  {
   "cell_type": "code",
   "execution_count": 112,
   "metadata": {},
   "outputs": [],
   "source": [
    "class GoogleJob:\n",
    "    \"\"\" Wraps job title, location, minimum/preferred qualifications and responsibilities \"\"\"\n",
    "    def __init__( self,title, location, minimum_qual, preferred_qual, responsibilities):\n",
    "        self.title = title\n",
    "        self.location = location\n",
    "        self.minimum_qual = minimum_qual\n",
    "        self.preferred_qual = preferred_qual\n",
    "        self.responsibilities = responsibilities"
   ]
  },
  {
   "cell_type": "code",
   "execution_count": 113,
   "metadata": {},
   "outputs": [],
   "source": [
    "def _extract(class_name: str):\n",
    "    \"\"\" Extracts the specified element by class name \"\"\"\n",
    "    return driver.find_element_by_class_name(class_name).text"
   ]
  },
  {
   "cell_type": "code",
   "execution_count": 114,
   "metadata": {},
   "outputs": [],
   "source": [
    "def scrape_url(url: str, wait: ui.WebDriverWait):\n",
    "    \"\"\" Scrape the job info from the specified Url. A broswer driver MUST be initialized beforehand.\n",
    "    :param url: the url of a detailed google job page.\n",
    "    :param wait: contains timeout.\n",
    "    :return: a GoogleJob object.\n",
    "    \"\"\"\n",
    "    driver.get(url)\n",
    "    # Wait until all required elements are generated.\n",
    "    wait.until(lambda driver:EC.presence_of_element_located((By.CLASS_NAME, 'gc-job-detail__title')))\n",
    "    wait.until(lambda driver:EC.presence_of_element_located((By.CLASS_NAME, 'gc-job-tags__location')))\n",
    "    wait.until(lambda driver:EC.presence_of_element_located((By.CLASS_NAME, 'gc-job-detail__section--qualifications')))\n",
    "    wait.until(lambda driver:EC.presence_of_element_located((By.CLASS_NAME, 'gc-job-detail__section--responsibilities')))\n",
    "    try:\n",
    "        sleep(2)\n",
    "        # Extract job information.\n",
    "        title = _extract('gc-job-detail__title')\n",
    "        location = driver.find_element_by_class_name('gc-job-detail__tags').find_element_by_class_name('gc-job-tags__location').text\n",
    "        qualifications = _extract('gc-job-detail__section--qualifications').split('\\n\\n')\n",
    "        minimum_qual = qualifications[0].replace('Minimum qualifications:\\n', '').replace('Qualifications\\n', '', 1)\n",
    "        preferred_qual = qualifications[1].replace('Preferred qualifications:\\n', '') if len(qualifications) > 1 else ''\n",
    "        responsibilities = _extract('gc-job-detail__section--responsibilities').replace('Responsibilities\\n', '', 1)\n",
    "        #title = _extract('gc-card__title')\n",
    "        #location = _extract('gc-job-tags__location')\n",
    "        #qualifications = _extract('gc-job-qualifications').split('\\n\\n')\n",
    "        #minimum_qual = qualifications[0].replace('Minimum qualifications:\\n', '')\n",
    "        #preferred_qual = qualifications[1].replace('Preferred qualifications:\\n', '')\n",
    "        #responsibilities = _extract('gc-job-detail__section--responsibilities').replace('Responsibilities\\n', '', 1)\n",
    "        return GoogleJob(title, location, minimum_qual, preferred_qual, responsibilities)\n",
    "        #'title': title,\n",
    "        #'location': location,\n",
    "        #'minimum_qual': minimum_qual,\n",
    "        #'preferred_qual': preferred_qual,\n",
    "        #'responsibilities': responsibilities\n",
    "    except:\n",
    "        print('MiceIsSoCute')\n",
    "        return \"\"\n",
    "\n",
    "   \n",
    "    "
   ]
  },
  {
   "cell_type": "code",
   "execution_count": null,
   "metadata": {},
   "outputs": [],
   "source": [
    "driver = webdriver.Chrome('chromedriver.exe')\n",
    "driver.get('https://careers.google.com/jobs/results/?company=Google&company=YouTube&employment_type=FULL_TIME&hl=en_US&jlo=en_US&q=&sort_by=relevance');\n",
    "driver.find_element_by_name('q').send_keys('software')\n",
    "driver.find_element_by_name('q').send_keys(Keys.RETURN)\n",
    "driver.implicitly_wait(10) \n",
    "# print(driver.page_source)  # 顯示全部html\n",
    "wait = ui.WebDriverWait(driver,20, 0.5)\n",
    "arr = []\n",
    "\n",
    "while True:\n",
    "    try:\n",
    "        sleep(2)\n",
    "        wait.until(lambda driver:EC.presence_of_element_located((By.ID,\"search-results\")))\n",
    "        element = driver.find_element_by_id(\"search-results\")\n",
    "        wait.until(lambda driver: EC.presence_of_element_located((By.XPATH,\"//a[@data-gtm-ref='job-results-card']\")))\n",
    "        ans =  element.find_elements_by_xpath(\"//a[@data-gtm-ref='job-results-card']\")\n",
    "        for a in range(0,10,1):\n",
    "            arr.append(ans[a].get_attribute('href'))\n",
    "        \n",
    "        test = wait.until(EC.presence_of_element_located((By.XPATH, \"//a[@data-gtm-ref='search-results-next-click']\")))\n",
    "        driver.find_element_by_xpath(\"//a[@data-gtm-ref='search-results-next-click']\").send_keys(Keys.RETURN)\n",
    "    except:\n",
    "            break\n",
    "    "
   ]
  },
  {
   "cell_type": "code",
   "execution_count": 106,
   "metadata": {},
   "outputs": [
    {
     "name": "stdout",
     "output_type": "stream",
     "text": [
      "['https://careers.google.com/jobs/results/6163626811654144-front-end-software-engineer/?company=Google&company=YouTube&employment_type=FULL_TIME&hl=en_US&jlo=en_US&q=software&sort_by=relevance', 'https://careers.google.com/jobs/results/6343639863328768-software-engineer-html5-video-google-cloud-platform/?company=Google&company=YouTube&employment_type=FULL_TIME&hl=en_US&jlo=en_US&q=software&sort_by=relevance', 'https://careers.google.com/jobs/results/5590805127561216-front-end-software-engineer-youtube/?company=Google&company=YouTube&employment_type=FULL_TIME&hl=en_US&jlo=en_US&q=software&sort_by=relevance', 'https://careers.google.com/jobs/results/5175961349980160-software-engineer-google-home/?company=Google&company=YouTube&employment_type=FULL_TIME&hl=en_US&jlo=en_US&q=software&sort_by=relevance', 'https://careers.google.com/jobs/results/5629038607663104-software-engineer-front-end-development/?company=Google&company=YouTube&employment_type=FULL_TIME&hl=en_US&jlo=en_US&q=software&sort_by=relevance', 'https://careers.google.com/jobs/results/6489007460646912-wireless-software-engineer-google-home/?company=Google&company=YouTube&employment_type=FULL_TIME&hl=en_US&jlo=en_US&q=software&sort_by=relevance', 'https://careers.google.com/jobs/results/4933418982768640-network-engineer-software-and-automation/?company=Google&company=YouTube&employment_type=FULL_TIME&hl=en_US&jlo=en_US&q=software&sort_by=relevance', 'https://careers.google.com/jobs/results/6283250717884416-software-engineer-cloud-sql/?company=Google&company=YouTube&employment_type=FULL_TIME&hl=en_US&jlo=en_US&q=software&sort_by=relevance', 'https://careers.google.com/jobs/results/5819748258611200-software-engineer-infrastructure-english/?company=Google&company=YouTube&employment_type=FULL_TIME&hl=en_US&jlo=en_US&q=software&sort_by=relevance', 'https://careers.google.com/jobs/results/5490168047796224-software-engineer/?company=Google&company=YouTube&employment_type=FULL_TIME&hl=en_US&jlo=en_US&q=software&sort_by=relevance']\n"
     ]
    }
   ],
   "source": [
    "print(arr)"
   ]
  },
  {
   "cell_type": "code",
   "execution_count": 107,
   "metadata": {},
   "outputs": [
    {
     "name": "stdout",
     "output_type": "stream",
     "text": [
      "Front End Software Engineer\n",
      "1\n",
      "Software Engineer, HTML5 Video, Google Cloud Platform\n",
      "2\n",
      "Front End Software Engineer, YouTube\n",
      "3\n",
      "Software Engineer, Google Home\n",
      "4\n",
      "Software Engineer, Front End Development\n",
      "5\n",
      "Wireless Software Engineer, Google Home\n",
      "6\n",
      "Network Engineer, Software and Automation\n",
      "7\n",
      "Software Engineer, Cloud SQL\n",
      "8\n",
      "Software Engineer, Infrastructure (English)\n",
      "9\n",
      "Software Engineer\n",
      "10\n"
     ]
    }
   ],
   "source": [
    "driver = webdriver.Chrome('chromedriver.exe')\n",
    "jobs = []\n",
    "for url in arr:\n",
    "    data = scrape_url(url, wait)\n",
    "    if data !=\"\":\n",
    "        jobs.append(data)\n",
    "        print(len(jobs))\n",
    "driver.quit()"
   ]
  },
  {
   "cell_type": "code",
   "execution_count": 108,
   "metadata": {},
   "outputs": [
    {
     "data": {
      "text/plain": [
       "{'title': 'Software Engineer',\n",
       " 'location': 'Seoul, South Korea',\n",
       " 'minimum_qual': \"Bachelor's degree in Computer Science, similar technical field of study or equivalent practical experience.\\nSoftware development experience in one or more general purpose programming languages.\\nExperience working with two or more from the following: web application development, Unix/Linux environments, mobile application development, distributed and parallel systems, machine learning, information retrieval, natural language processing, networking, developing large software systems, and/or security software development.\",\n",
       " 'preferred_qual': 'Master’s degree or PhD in Engineering, Computer Science or other technical related field.\\nExperience with one or more general purpose programming languages including but not limited to: C++, Java, C and Python.\\nExperience in a wide variety of projects utilizing natural language processing, artificial intelligence, data compression, machine learning and search technologies.\\nExcellent written and verbal communication skills.',\n",
       " 'responsibilities': \"Design, develop, test, deploy, maintain and improve software.\\nManage individual project priorities, deadlines and deliverables.\\nWork closely with product management team to ensure we're building the best products.\"}"
      ]
     },
     "execution_count": 108,
     "metadata": {},
     "output_type": "execute_result"
    }
   ],
   "source": [
    "vars(jobs[9])"
   ]
  },
  {
   "cell_type": "code",
   "execution_count": 109,
   "metadata": {},
   "outputs": [
    {
     "name": "stdout",
     "output_type": "stream",
     "text": [
      "File written: google_jobs.csv\n"
     ]
    }
   ],
   "source": [
    "csv_file = 'google_jobs.csv'\n",
    "\n",
    "with open(csv_file, 'w',newline ='') as f:\n",
    "    w = csv.DictWriter(f, vars(jobs[0]).keys())\n",
    "    w.writeheader()\n",
    "    \n",
    "    for job in jobs:\n",
    "        w.writerow(vars(job))\n",
    "    \n",
    "print('File written: ' + csv_file)"
   ]
  },
  {
   "cell_type": "code",
   "execution_count": 110,
   "metadata": {},
   "outputs": [
    {
     "data": {
      "text/html": [
       "<div>\n",
       "<style scoped>\n",
       "    .dataframe tbody tr th:only-of-type {\n",
       "        vertical-align: middle;\n",
       "    }\n",
       "\n",
       "    .dataframe tbody tr th {\n",
       "        vertical-align: top;\n",
       "    }\n",
       "\n",
       "    .dataframe thead th {\n",
       "        text-align: right;\n",
       "    }\n",
       "</style>\n",
       "<table border=\"1\" class=\"dataframe\">\n",
       "  <thead>\n",
       "    <tr style=\"text-align: right;\">\n",
       "      <th></th>\n",
       "      <th>title</th>\n",
       "      <th>location</th>\n",
       "      <th>minimum_qual</th>\n",
       "      <th>preferred_qual</th>\n",
       "      <th>responsibilities</th>\n",
       "    </tr>\n",
       "  </thead>\n",
       "  <tbody>\n",
       "    <tr>\n",
       "      <th>0</th>\n",
       "      <td>Front End Software Engineer</td>\n",
       "      <td>Pittsburgh, PA, USA</td>\n",
       "      <td>BA/BS degree or equivalent practical experienc...</td>\n",
       "      <td>4 years of relevant work experience, including...</td>\n",
       "      <td>Build next-generation web applications with a ...</td>\n",
       "    </tr>\n",
       "    <tr>\n",
       "      <th>1</th>\n",
       "      <td>Software Engineer, HTML5 Video, Google Cloud P...</td>\n",
       "      <td>Sunnyvale, CA, USA</td>\n",
       "      <td>BS degree in Electrical Engineering or Compute...</td>\n",
       "      <td>MS degree in Electrical Engineering or Compute...</td>\n",
       "      <td>Design, implement and launch complex HTML5 vid...</td>\n",
       "    </tr>\n",
       "    <tr>\n",
       "      <th>2</th>\n",
       "      <td>Front End Software Engineer, YouTube</td>\n",
       "      <td>San Bruno, CA, USA</td>\n",
       "      <td>BA/BS in Computer Science or related technical...</td>\n",
       "      <td>Experience with one or more general purpose pr...</td>\n",
       "      <td>Design, implement and launch highly-visible, p...</td>\n",
       "    </tr>\n",
       "    <tr>\n",
       "      <th>3</th>\n",
       "      <td>Software Engineer, Google Home</td>\n",
       "      <td>Shanghai, China</td>\n",
       "      <td>Bachelor's degree in Computer Science, Electri...</td>\n",
       "      <td>Experience working with hardware designers/rea...</td>\n",
       "      <td>Develop the whole software stack for consumer ...</td>\n",
       "    </tr>\n",
       "    <tr>\n",
       "      <th>4</th>\n",
       "      <td>Software Engineer, Front End Development</td>\n",
       "      <td>Singapore</td>\n",
       "      <td>Bachelor's degree in a technical field, or equ...</td>\n",
       "      <td>Development experience in designing modular, o...</td>\n",
       "      <td>Build next-generation web applications with a ...</td>\n",
       "    </tr>\n",
       "    <tr>\n",
       "      <th>5</th>\n",
       "      <td>Wireless Software Engineer, Google Home</td>\n",
       "      <td>Taipei, Taiwan</td>\n",
       "      <td>Master's degree in Electrical Engineering or C...</td>\n",
       "      <td>PhD degree.\\nExperience with wireless protocol...</td>\n",
       "      <td>Participate in architecting, developing, testi...</td>\n",
       "    </tr>\n",
       "    <tr>\n",
       "      <th>6</th>\n",
       "      <td>Network Engineer, Software and Automation</td>\n",
       "      <td>Sydney NSW, Australia</td>\n",
       "      <td>BA/BS in Computer Science or related field or ...</td>\n",
       "      <td>Master's degree or PhD in Computer Science or ...</td>\n",
       "      <td>Engage in and improve the lifecycle of service...</td>\n",
       "    </tr>\n",
       "    <tr>\n",
       "      <th>7</th>\n",
       "      <td>Software Engineer, Cloud SQL</td>\n",
       "      <td>Sunnyvale, CA, USA</td>\n",
       "      <td>BS degree in Computer Science, similar technic...</td>\n",
       "      <td>10 years of relevant work experience in softwa...</td>\n",
       "      <td>Work alongside the Technical Lead to drive lon...</td>\n",
       "    </tr>\n",
       "    <tr>\n",
       "      <th>8</th>\n",
       "      <td>Software Engineer, Infrastructure (English)</td>\n",
       "      <td>Tel Aviv-Yafo, Israel</td>\n",
       "      <td>Bachelor's degree in Computer Science, a relat...</td>\n",
       "      <td>Master¡¦s degree.\\nExperience with Unix/Linux ...</td>\n",
       "      <td>Design, develop, test, deploy, maintain and im...</td>\n",
       "    </tr>\n",
       "    <tr>\n",
       "      <th>9</th>\n",
       "      <td>Software Engineer</td>\n",
       "      <td>Seoul, South Korea</td>\n",
       "      <td>Bachelor's degree in Computer Science, similar...</td>\n",
       "      <td>Master¡¦s degree or PhD in Engineering, Comput...</td>\n",
       "      <td>Design, develop, test, deploy, maintain and im...</td>\n",
       "    </tr>\n",
       "  </tbody>\n",
       "</table>\n",
       "</div>"
      ],
      "text/plain": [
       "                                               title               location  \\\n",
       "0                        Front End Software Engineer    Pittsburgh, PA, USA   \n",
       "1  Software Engineer, HTML5 Video, Google Cloud P...     Sunnyvale, CA, USA   \n",
       "2               Front End Software Engineer, YouTube     San Bruno, CA, USA   \n",
       "3                     Software Engineer, Google Home        Shanghai, China   \n",
       "4           Software Engineer, Front End Development              Singapore   \n",
       "5            Wireless Software Engineer, Google Home         Taipei, Taiwan   \n",
       "6          Network Engineer, Software and Automation  Sydney NSW, Australia   \n",
       "7                       Software Engineer, Cloud SQL     Sunnyvale, CA, USA   \n",
       "8        Software Engineer, Infrastructure (English)  Tel Aviv-Yafo, Israel   \n",
       "9                                  Software Engineer     Seoul, South Korea   \n",
       "\n",
       "                                        minimum_qual  \\\n",
       "0  BA/BS degree or equivalent practical experienc...   \n",
       "1  BS degree in Electrical Engineering or Compute...   \n",
       "2  BA/BS in Computer Science or related technical...   \n",
       "3  Bachelor's degree in Computer Science, Electri...   \n",
       "4  Bachelor's degree in a technical field, or equ...   \n",
       "5  Master's degree in Electrical Engineering or C...   \n",
       "6  BA/BS in Computer Science or related field or ...   \n",
       "7  BS degree in Computer Science, similar technic...   \n",
       "8  Bachelor's degree in Computer Science, a relat...   \n",
       "9  Bachelor's degree in Computer Science, similar...   \n",
       "\n",
       "                                      preferred_qual  \\\n",
       "0  4 years of relevant work experience, including...   \n",
       "1  MS degree in Electrical Engineering or Compute...   \n",
       "2  Experience with one or more general purpose pr...   \n",
       "3  Experience working with hardware designers/rea...   \n",
       "4  Development experience in designing modular, o...   \n",
       "5  PhD degree.\\nExperience with wireless protocol...   \n",
       "6  Master's degree or PhD in Computer Science or ...   \n",
       "7  10 years of relevant work experience in softwa...   \n",
       "8  Master¡¦s degree.\\nExperience with Unix/Linux ...   \n",
       "9  Master¡¦s degree or PhD in Engineering, Comput...   \n",
       "\n",
       "                                    responsibilities  \n",
       "0  Build next-generation web applications with a ...  \n",
       "1  Design, implement and launch complex HTML5 vid...  \n",
       "2  Design, implement and launch highly-visible, p...  \n",
       "3  Develop the whole software stack for consumer ...  \n",
       "4  Build next-generation web applications with a ...  \n",
       "5  Participate in architecting, developing, testi...  \n",
       "6  Engage in and improve the lifecycle of service...  \n",
       "7  Work alongside the Technical Lead to drive lon...  \n",
       "8  Design, develop, test, deploy, maintain and im...  \n",
       "9  Design, develop, test, deploy, maintain and im...  "
      ]
     },
     "execution_count": 110,
     "metadata": {},
     "output_type": "execute_result"
    }
   ],
   "source": [
    "import pandas\n",
    "dat = pandas.read_csv(csv_file,encoding='iso-8859-1')\n",
    "dat"
   ]
  },
  {
   "cell_type": "code",
   "execution_count": null,
   "metadata": {},
   "outputs": [],
   "source": []
  },
  {
   "cell_type": "code",
   "execution_count": null,
   "metadata": {},
   "outputs": [],
   "source": []
  }
 ],
 "metadata": {
  "kernelspec": {
   "display_name": "Python 3",
   "language": "python",
   "name": "python3"
  },
  "language_info": {
   "codemirror_mode": {
    "name": "ipython",
    "version": 3
   },
   "file_extension": ".py",
   "mimetype": "text/x-python",
   "name": "python",
   "nbconvert_exporter": "python",
   "pygments_lexer": "ipython3",
   "version": "3.7.1"
  }
 },
 "nbformat": 4,
 "nbformat_minor": 2
}
