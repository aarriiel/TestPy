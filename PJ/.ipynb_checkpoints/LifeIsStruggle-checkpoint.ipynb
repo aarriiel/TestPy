{
 "cells": [
  {
   "cell_type": "markdown",
   "metadata": {},
   "source": [
    "先載selenium 和 chromedriver"
   ]
  },
  {
   "cell_type": "markdown",
   "metadata": {},
   "source": [
    "有用參考網站:"
   ]
  },
  {
   "cell_type": "markdown",
   "metadata": {},
   "source": [
    "https://wangxin1248.github.io/python/2018/09/python3-spider-8.html"
   ]
  },
  {
   "cell_type": "markdown",
   "metadata": {},
   "source": [
    "https://huilansame.github.io/huilansame.github.io/archivers/sleep-implicitlywait-wait"
   ]
  },
  {
   "cell_type": "code",
   "execution_count": null,
   "metadata": {},
   "outputs": [],
   "source": [
    "import selenium.webdriver.support.ui as ui\n",
    "from time import sleep\n",
    "from selenium import webdriver\n",
    "from selenium.webdriver.common.keys import Keys\n",
    "from selenium.webdriver.support import expected_conditions as EC\n",
    "from selenium.webdriver.common.by import By\n",
    "import csv"
   ]
  },
  {
   "cell_type": "code",
   "execution_count": 2,
   "metadata": {},
   "outputs": [],
   "source": [
    "class GoogleJob:\n",
    "    \"\"\" Wraps job title, location, minimum/preferred qualifications and responsibilities \"\"\"\n",
    "    def __init__(self, title, location, minimum_qual, preferred_qual, responsibilities):\n",
    "        self.title = title\n",
    "        self.location = location\n",
    "        self.minimum_qual = minimum_qual\n",
    "        self.preferred_qual = preferred_qual\n",
    "        self.responsibilities = responsibilities"
   ]
  },
  {
   "cell_type": "code",
   "execution_count": 3,
   "metadata": {},
   "outputs": [],
   "source": [
    "def _extract(class_name: str):\n",
    "    \"\"\" Extracts the specified element by class name \"\"\"\n",
    "    return driver.find_element_by_class_name(class_name).text"
   ]
  },
  {
   "cell_type": "code",
   "execution_count": 4,
   "metadata": {},
   "outputs": [],
   "source": [
    "def scrape_url(url: str, wait: ui.WebDriverWait):\n",
    "    \"\"\" Scrape the job info from the specified Url. A broswer driver MUST be initialized beforehand.\n",
    "    :param url: the url of a detailed google job page.\n",
    "    :param wait: contains timeout.\n",
    "    :return: a GoogleJob object.\n",
    "    \"\"\"\n",
    "    driver.get(url)\n",
    "    # Wait until all required elements are generated.\n",
    "    wait.until(lambda driver:EC.presence_of_element_located((By.CLASS_NAME, 'gc-card__title')))\n",
    "    wait.until(lambda driver:EC.presence_of_element_located((By.CLASS_NAME, 'gc-job-tags__location')))\n",
    "    wait.until(lambda driver:EC.presence_of_element_located((By.CLASS_NAME, 'gc-job-qualifications')))\n",
    "    wait.until(lambda driver:EC.presence_of_element_located((By.CLASS_NAME, 'gc-job-detail__section--responsibilities')))\n",
    "    try:\n",
    "        sleep(2)\n",
    "        # Extract job information.\n",
    "        title = _extract('gc-card__title')\n",
    "        location = _extract('gc-job-tags__location')\n",
    "        qualifications = _extract('gc-job-qualifications').split('\\n\\n')\n",
    "        minimum_qual = qualifications[0].replace('Minimum qualifications:\\n', '')\n",
    "        preferred_qual = qualifications[1].replace('Preferred qualifications:\\n', '')\n",
    "        responsibilities = _extract('gc-job-detail__section--responsibilities').replace('Responsibilities\\n', '', 1)\n",
    "        return GoogleJob(title, location, minimum_qual, preferred_qual, responsibilities)\n",
    "    except:\n",
    "        print('nooooooooooooo')\n",
    "        return \"\"\n",
    "\n",
    "   \n",
    "    "
   ]
  },
  {
   "cell_type": "code",
   "execution_count": null,
   "metadata": {},
   "outputs": [],
   "source": [
    "driver = webdriver.Chrome('chromedriver.exe')\n",
    "driver.get('https://careers.google.com/jobs/results/?company=Google&company=YouTube&employment_type=FULL_TIME&hl=en_US&jlo=en_US&q=&sort_by=relevance');\n",
    "driver.find_element_by_name('q').send_keys('software')\n",
    "driver.find_element_by_name('q').send_keys(Keys.RETURN)\n",
    "driver.implicitly_wait(10) \n",
    "# print(driver.page_source)  # 顯示全部html\n",
    "wait = ui.WebDriverWait(driver,20, 0.5)\n",
    "arr = []\n",
    "\n",
    "while True:\n",
    "    try:\n",
    "        sleep(2)\n",
    "        wait.until(lambda driver:EC.presence_of_element_located((By.ID,\"search-results\")))\n",
    "        element = driver.find_element_by_id(\"search-results\")\n",
    "        wait.until(lambda driver: EC.presence_of_element_located((By.XPATH,\"//a[@data-gtm-ref='job-results-card']\")))\n",
    "        ans =  element.find_elements_by_xpath(\"//a[@data-gtm-ref='job-results-card']\")\n",
    "        for a in range(0,len(ans),1):\n",
    "            arr.append(ans[a].get_attribute('href'))\n",
    "        \n",
    "        test = wait.until(EC.presence_of_element_located((By.XPATH, \"//a[@data-gtm-ref='search-results-next-click']\")))\n",
    "        driver.find_element_by_xpath(\"//a[@data-gtm-ref='search-results-next-click']\").send_keys(Keys.RETURN)\n",
    "    except:\n",
    "        break\n",
    "    "
   ]
  },
  {
   "cell_type": "code",
   "execution_count": null,
   "metadata": {},
   "outputs": [],
   "source": [
    "print(arr)"
   ]
  },
  {
   "cell_type": "code",
   "execution_count": null,
   "metadata": {},
   "outputs": [],
   "source": [
    "driver = webdriver.Chrome('chromedriver.exe')\n",
    "jobs = []\n",
    "for url in arr:\n",
    "    data = scrape_url(url, wait)\n",
    "    if data !=\"\":\n",
    "        jobs.append(data)\n",
    "        print(len(jobs))\n",
    "driver.quit()"
   ]
  },
  {
   "cell_type": "code",
   "execution_count": null,
   "metadata": {},
   "outputs": [],
   "source": [
    "vars(jobs[1000])"
   ]
  },
  {
   "cell_type": "code",
   "execution_count": null,
   "metadata": {},
   "outputs": [],
   "source": [
    "csv_file = 'google_jobs.csv'\n",
    "\n",
    "with open(csv_file, 'w') as f:\n",
    "    w = csv.DictWriter(f, vars(jobs[0]).keys())\n",
    "    w.writeheader()\n",
    "    \n",
    "    for job in jobs:\n",
    "        w.writerow(vars(job))\n",
    "    \n",
    "print('File written: ' + csv_file)"
   ]
  },
  {
   "cell_type": "code",
   "execution_count": null,
   "metadata": {},
   "outputs": [],
   "source": [
    "import pandas\n",
    "dat = pandas.read_csv(csv_file)\n",
    "dat"
   ]
  }
 ],
 "metadata": {
  "kernelspec": {
   "display_name": "Python 3",
   "language": "python",
   "name": "python3"
  },
  "language_info": {
   "codemirror_mode": {
    "name": "ipython",
    "version": 3
   },
   "file_extension": ".py",
   "mimetype": "text/x-python",
   "name": "python",
   "nbconvert_exporter": "python",
   "pygments_lexer": "ipython3",
   "version": "3.7.1"
  }
 },
 "nbformat": 4,
 "nbformat_minor": 2
}
